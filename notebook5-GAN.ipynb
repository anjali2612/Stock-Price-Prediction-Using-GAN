{
 "cells": [
  {
   "cell_type": "code",
   "execution_count": 1,
   "id": "65b8dece",
   "metadata": {},
   "outputs": [],
   "source": [
    "import time\n",
    "import os\n",
    "import pandas as pd\n",
    "import matplotlib.pyplot as plt\n",
    "import tensorflow as tf\n",
    "import numpy as np\n",
    "from pickle import load\n",
    "from tensorflow.keras.losses import mean_squared_error\n",
    "from tensorflow.keras.layers import GRU, Dense, Flatten, Conv1D, BatchNormalization, LeakyReLU, ELU, ReLU\n",
    "from tensorflow.keras import Sequential, regularizers\n",
    "from tensorflow.python.client import device_lib\n",
    "import warnings\n",
    "warnings.filterwarnings('ignore')"
   ]
  },
  {
   "cell_type": "markdown",
   "id": "c129d21d",
   "metadata": {},
   "source": [
    "### Load data"
   ]
  },
  {
   "cell_type": "code",
   "execution_count": 2,
   "id": "c01cccaf",
   "metadata": {},
   "outputs": [],
   "source": [
    "# Load data\n",
    "X_train = np.load(\"X_train.npy\", allow_pickle=True)\n",
    "y_train = np.load(\"y_train.npy\", allow_pickle=True)\n",
    "X_test = np.load(\"X_test.npy\", allow_pickle=True)\n",
    "y_test = np.load(\"y_test.npy\", allow_pickle=True)\n",
    "yc_train = np.load(\"yc_train.npy\", allow_pickle=True)\n",
    "yc_test = np.load(\"yc_test.npy\", allow_pickle=True)"
   ]
  },
  {
   "cell_type": "markdown",
   "id": "77affdbc",
   "metadata": {},
   "source": [
    "### 3. GAN\n",
    "**GENERATIVE ADVERSARIAL NETWORK(GAN)-**\n",
    "- GAN is composed of two components- Generator and discriminator.\n",
    "\n",
    "### Generator\n",
    "- generator is aimed to generate examples that can look as real as possible"
   ]
  },
  {
   "cell_type": "code",
   "execution_count": 3,
   "id": "dcb2a195",
   "metadata": {},
   "outputs": [],
   "source": [
    "# Define the generator\n",
    "def Generator(input_dim, output_dim, feature_size) -> tf.keras.models.Model:\n",
    "    model = Sequential()\n",
    "    model.add(GRU(units=256,\n",
    "                  return_sequences=True,\n",
    "                  input_shape=(input_dim, feature_size),\n",
    "                  recurrent_dropout=0.02,\n",
    "                  recurrent_regularizer=regularizers.l2(1e-3)))\n",
    "    model.add(GRU(units=128,\n",
    "                  #return_sequences=True,\n",
    "                  recurrent_dropout=0.02,\n",
    "                  recurrent_regularizer=regularizers.l2(1e-3)))\n",
    "    #model.add(Dense(128,\n",
    "    #              kernel_regularizer=regularizers.l2(1e-3)))\n",
    "    model.add(Dense(64, kernel_regularizer=regularizers.l2(1e-3)))\n",
    "    model.add(Dense(32, kernel_regularizer=regularizers.l2(1e-3)))\n",
    "    #model.add(Dense(16, kernel_regularizer=regularizers.l2(1e-3)))\n",
    "    #model.add(Dense(8, kernel_regularizer=regularizers.l2(1e-3)))\n",
    "    model.add(Dense(units=output_dim))\n",
    "    return model"
   ]
  },
  {
   "cell_type": "markdown",
   "id": "619d9964",
   "metadata": {},
   "source": [
    "### Discriminator\n",
    "- Discriminator is to distinguish the prediction is real or fake"
   ]
  },
  {
   "cell_type": "code",
   "execution_count": 4,
   "id": "4b735645",
   "metadata": {},
   "outputs": [],
   "source": [
    "# Define the discriminator\n",
    "def Discriminator() -> tf.keras.models.Model:\n",
    "    model = tf.keras.Sequential()\n",
    "    model.add(Conv1D(32, input_shape=(4, 1), kernel_size=3, strides=2, padding=\"same\", activation=LeakyReLU(alpha=0.01)))\n",
    "    model.add(Conv1D(64, kernel_size=3, strides=2, padding=\"same\", activation=LeakyReLU(alpha=0.01)))\n",
    "    model.add(Conv1D(128, kernel_size=3, strides=2, padding=\"same\", activation=LeakyReLU(alpha=0.01)))\n",
    "    model.add(Flatten())\n",
    "    model.add(Dense(220, use_bias=True))\n",
    "    model.add(LeakyReLU())\n",
    "    model.add(Dense(220, use_bias=True))\n",
    "    model.add(ReLU())\n",
    "    model.add(Dense(1))\n",
    "    return model\n"
   ]
  },
  {
   "cell_type": "markdown",
   "id": "b5854776",
   "metadata": {},
   "source": [
    "### Train GAN model"
   ]
  },
  {
   "cell_type": "code",
   "execution_count": 5,
   "id": "4f1661a2",
   "metadata": {},
   "outputs": [
    {
     "name": "stdout",
     "output_type": "stream",
     "text": [
      "WARNING:tensorflow:Compiled the loaded model, but the compiled metrics have yet to be built. `model.compile_metrics` will be empty until you train or evaluate the model.\n",
      "epoch 15 d_loss 9.654863 g_loss -0.46343532\n",
      "WARNING:tensorflow:Compiled the loaded model, but the compiled metrics have yet to be built. `model.compile_metrics` will be empty until you train or evaluate the model.\n",
      "epoch 30 d_loss 10.865944 g_loss -1.7502986\n",
      "WARNING:tensorflow:Compiled the loaded model, but the compiled metrics have yet to be built. `model.compile_metrics` will be empty until you train or evaluate the model.\n",
      "epoch 45 d_loss 9.076186 g_loss 0.008663665\n",
      "WARNING:tensorflow:Compiled the loaded model, but the compiled metrics have yet to be built. `model.compile_metrics` will be empty until you train or evaluate the model.\n",
      "epoch 60 d_loss 6.4243965 g_loss 1.8195397\n",
      "WARNING:tensorflow:Compiled the loaded model, but the compiled metrics have yet to be built. `model.compile_metrics` will be empty until you train or evaluate the model.\n",
      "epoch 75 d_loss 4.758586 g_loss 2.0736375\n",
      "WARNING:tensorflow:Compiled the loaded model, but the compiled metrics have yet to be built. `model.compile_metrics` will be empty until you train or evaluate the model.\n",
      "epoch 90 d_loss 4.062975 g_loss -0.05085141\n"
     ]
    },
    {
     "data": {
      "image/png": "[encoded data removed]",
      "text/plain": [
       "<Figure size 432x288 with 1 Axes>"
      ]
     },
     "metadata": {
      "needs_background": "light"
     },
     "output_type": "display_data"
    },
    {
     "name": "stdout",
     "output_type": "stream",
     "text": [
      "REAL (1746, 1)\n",
      "[[-0.9801787 ]\n",
      " [-0.9812794 ]\n",
      " [-0.98266388]\n",
      " ...\n",
      " [-0.33843275]\n",
      " [-0.33313558]\n",
      " [-0.3303064 ]]\n",
      "PREDICTED (1746, 1)\n",
      "[[2.819522 ]\n",
      " [2.823894 ]\n",
      " [2.836799 ]\n",
      " ...\n",
      " [1.2119938]\n",
      " [1.2300414]\n",
      " [1.2322392]]\n"
     ]
    },
    {
     "data": {
      "text/plain": [
       "<Figure size 432x288 with 0 Axes>"
      ]
     },
     "metadata": {},
     "output_type": "display_data"
    }
   ],
   "source": [
    "class GAN():\n",
    "    def __init__(self, generator, discriminator):\n",
    "        super(GAN, self).__init__()\n",
    "        self.d_optimizer = tf.keras.optimizers.Adam(0.0001)\n",
    "        self.g_optimizer = tf.keras.optimizers.Adam(0.0001)\n",
    "        self.generator = generator\n",
    "        self.discriminator = discriminator\n",
    "        self.batch_size = 128\n",
    "        checkpoint_dir = '../training_checkpoints'\n",
    "        self.checkpoint_prefix = os.path.join(checkpoint_dir, \"ckpt\")\n",
    "        self.checkpoint = tf.train.Checkpoint(generator_optimizer=self.g_optimizer,\n",
    "                                              discriminator_optimizer=self.d_optimizer,\n",
    "                                              generator=self.generator,\n",
    "                                              discriminator=self.discriminator)\n",
    "\n",
    "    def gradient_penalty(self, batch_size, real_output, fake_output):\n",
    "        \"\"\" Calculates the gradient penalty.\n",
    "        This loss is calculated on an interpolated image\n",
    "        and added to the discriminator loss.\n",
    "        \"\"\"\n",
    "        # get the interpolated data\n",
    "        alpha = tf.random.normal([batch_size, 4, 1], 0.0, 1.0)\n",
    "        diff = fake_output - tf.cast(real_output, tf.float32)\n",
    "        interpolated = tf.cast(real_output, tf.float32) + alpha * diff\n",
    "\n",
    "        with tf.GradientTape() as gp_tape:\n",
    "            gp_tape.watch(interpolated)\n",
    "            # 1. Get the discriminator output for this interpolated image.\n",
    "            pred = self.discriminator(interpolated, training=True)\n",
    "\n",
    "        # 2. Calculate the gradients w.r.t to this interpolated image.\n",
    "        grads = gp_tape.gradient(pred, [interpolated])[0]\n",
    "\n",
    "        # 3. Calcuate the norm of the gradients\n",
    "        norm = tf.sqrt(tf.reduce_sum(tf.square(grads), axis=[1, 2]))\n",
    "\n",
    "        gp = tf.reduce_mean((norm - 1.0) ** 2)\n",
    "        return gp\n",
    "\n",
    "    def train_step(self, data):\n",
    "        real_input, real_price, yc = data\n",
    "        batch_size = tf.shape(real_input)[0]\n",
    "        for _ in range(1):\n",
    "            with tf.GradientTape() as d_tape:\n",
    "                # Train the discriminator\n",
    "                # generate fake output\n",
    "                generated_data = self.generator(real_input, training=True)\n",
    "                # reshape the data\n",
    "                generated_data_reshape = tf.reshape(generated_data, [generated_data.shape[0], generated_data.shape[1], 1])\n",
    "                fake_output = tf.concat([generated_data_reshape, tf.cast(yc, tf.float32)], axis=1)\n",
    "                real_y_reshape = tf.reshape(real_price, [real_price.shape[0], real_price.shape[1], 1])\n",
    "                real_output = tf.concat([tf.cast(real_y_reshape, tf.float32), tf.cast(yc, tf.float32)], axis=1)\n",
    "                # Get the logits for the fake images\n",
    "                D_real = self.discriminator(real_output, training=True)\n",
    "                # Get the logits for real images\n",
    "                D_fake = self.discriminator(fake_output, training=True)\n",
    "                # Calculate discriminator loss using fake and real logits\n",
    "                real_loss = tf.cast(tf.reduce_mean(D_real), tf.float32)\n",
    "                fake_loss = tf.cast(tf.reduce_mean(D_fake), tf.float32)\n",
    "                d_cost = fake_loss-real_loss\n",
    "                # Calculate the gradientjiu penalty\n",
    "                gp = self.gradient_penalty(batch_size, real_output, fake_output)\n",
    "                # Add the gradient penalty to the original discriminator loss\n",
    "                d_loss = d_cost + gp * 10\n",
    "\n",
    "            d_grads = d_tape.gradient(d_loss, self.discriminator.trainable_variables)\n",
    "            self.d_optimizer.apply_gradients(zip(d_grads, self.discriminator.trainable_variables))\n",
    "        for _ in range(3):\n",
    "            with tf.GradientTape() as g_tape:\n",
    "                # Train the generator\n",
    "                # generate fake output\n",
    "                generated_data = self.generator(real_input, training=True)\n",
    "                # reshape the data\n",
    "                generated_data_reshape = tf.reshape(generated_data, [generated_data.shape[0], generated_data.shape[1], 1])\n",
    "                fake_output = tf.concat([generated_data_reshape, tf.cast(yc, tf.float32)], axis=1)\n",
    "                # Get the discriminator logits for fake images\n",
    "                G_fake = self.discriminator(fake_output, training=True)\n",
    "                # Calculate the generator loss\n",
    "                g_loss = -tf.reduce_mean(G_fake)\n",
    "            g_grads = g_tape.gradient(g_loss, self.generator.trainable_variables)\n",
    "            self.g_optimizer.apply_gradients(zip(g_grads, self.generator.trainable_variables))\n",
    "\n",
    "        return real_price, generated_data, {'d_loss': d_loss, 'g_loss': g_loss}\n",
    "\n",
    "    def train(self, X_train, y_train, yc, epochs):\n",
    "        data = X_train, y_train, yc\n",
    "        train_hist = {}\n",
    "        train_hist['D_losses'] = []\n",
    "        train_hist['G_losses'] = []\n",
    "        train_hist['per_epoch_times'] = []\n",
    "        train_hist['total_ptime'] = []\n",
    "\n",
    "\n",
    "        for epoch in range(epochs):\n",
    "            start = time.time()\n",
    "\n",
    "            real_price, fake_price, loss = self.train_step(data)\n",
    "\n",
    "            G_losses = []\n",
    "            D_losses = []\n",
    "\n",
    "            Real_price = []\n",
    "            Predicted_price = []\n",
    "\n",
    "            D_losses.append(loss['d_loss'].numpy())\n",
    "            G_losses.append(loss['g_loss'].numpy())\n",
    "\n",
    "            Predicted_price.append(fake_price)\n",
    "            Real_price.append(real_price)\n",
    "\n",
    "            # Save the model every 15 epochs\n",
    "            if (epoch + 1) % 15 == 0:\n",
    "                tf.keras.models.save_model(generator, 'gen_GRU_model_%d.h5' % epoch)\n",
    "                self.checkpoint.save(file_prefix=self.checkpoint_prefix)\n",
    "                print('epoch', epoch+1, 'd_loss', loss['d_loss'].numpy(), 'g_loss', loss['g_loss'].numpy())\n",
    "\n",
    "            # For printing loss\n",
    "            epoch_end_time = time.time()\n",
    "            per_epoch_ptime = epoch_end_time - start\n",
    "            train_hist['D_losses'].append(D_losses)\n",
    "            train_hist['G_losses'].append(G_losses)\n",
    "            train_hist['per_epoch_times'].append(per_epoch_ptime)\n",
    "            \n",
    "        # Reshape the predicted result & real\n",
    "        Predicted_price = np.array(Predicted_price)\n",
    "        Predicted_price = Predicted_price.reshape(Predicted_price.shape[1], Predicted_price.shape[2])\n",
    "        Real_price = np.array(Real_price)\n",
    "        Real_price = Real_price.reshape(Real_price.shape[1], Real_price.shape[2])\n",
    "\n",
    "        # Plot the loss\n",
    "        plt.plot(train_hist['D_losses'], label='D_loss')\n",
    "        plt.plot(train_hist['G_losses'], label='G_loss')\n",
    "        plt.xlabel('Epoch')\n",
    "        plt.ylabel('Loss')\n",
    "        plt.legend()\n",
    "        plt.show()\n",
    "        plt.savefig('train_loss.png')\n",
    "\n",
    "        print(\"REAL\", Real_price.shape)\n",
    "        print(Real_price)\n",
    "        print(\"PREDICTED\", Predicted_price.shape)\n",
    "        print(Predicted_price)\n",
    "\n",
    "        return Predicted_price, Real_price, np.sqrt(mean_squared_error(Real_price, Predicted_price)) / np.mean(Real_price)\n",
    "    \n",
    "if __name__ == '__main__':\n",
    "    input_dim = X_train.shape[1]\n",
    "    feature_size = X_train.shape[2]\n",
    "    output_dim = y_train.shape[1]\n",
    "    epoch = 100\n",
    "\n",
    "    generator = Generator(X_train.shape[1], output_dim, X_train.shape[2])\n",
    "    discriminator = Discriminator()\n",
    "    gan = GAN(generator, discriminator)\n",
    "    Predicted_price, Real_price, RMSPE = gan.train(X_train, y_train, yc_train, epoch)    \n",
    "\n"
   ]
  },
  {
   "cell_type": "code",
   "execution_count": 6,
   "id": "3a4ad6c7",
   "metadata": {},
   "outputs": [
    {
     "name": "stdout",
     "output_type": "stream",
     "text": [
      "----- predicted price ----- [[2.819522 ]\n",
      " [2.823894 ]\n",
      " [2.836799 ]\n",
      " ...\n",
      " [1.2119938]\n",
      " [1.2300414]\n",
      " [1.2322392]]\n",
      "----- rescaled predicted price ----- [[167.2005 ]\n",
      " [167.38208]\n",
      " [167.91803]\n",
      " ...\n",
      " [100.43697]\n",
      " [101.18652]\n",
      " [101.27781]]\n",
      "----- SHAPE rescaled predicted price ----- (1746, 1)\n"
     ]
    },
    {
     "data": {
      "image/png": "[encoded data removed]",
      "text/plain": [
       "<Figure size 1152x576 with 1 Axes>"
      ]
     },
     "metadata": {
      "needs_background": "light"
     },
     "output_type": "display_data"
    },
    {
     "name": "stdout",
     "output_type": "stream",
     "text": [
      "-- RMSE --  120.97233872250867\n"
     ]
    },
    {
     "data": {
      "text/plain": [
       "<Figure size 432x288 with 0 Axes>"
      ]
     },
     "metadata": {},
     "output_type": "display_data"
    }
   ],
   "source": [
    "# Rescale back the real dataset\n",
    "X_scaler = load(open('X_scaler.pkl', 'rb'))\n",
    "y_scaler = load(open('y_scaler.pkl', 'rb'))\n",
    "train_predict_index = np.load(\"index_train.npy\", allow_pickle=True)\n",
    "test_predict_index = np.load(\"index_test.npy\", allow_pickle=True)\n",
    "\n",
    "print(\"----- predicted price -----\", Predicted_price)\n",
    "\n",
    "rescaled_Real_price = y_scaler.inverse_transform(Real_price)\n",
    "rescaled_Predicted_price = y_scaler.inverse_transform(Predicted_price)\n",
    "\n",
    "print(\"----- rescaled predicted price -----\", rescaled_Predicted_price)\n",
    "print(\"----- SHAPE rescaled predicted price -----\", rescaled_Predicted_price.shape)\n",
    "\n",
    "predict_result = pd.DataFrame()\n",
    "for i in range(rescaled_Predicted_price.shape[0]):\n",
    "    y_predict = pd.DataFrame(rescaled_Predicted_price[i], columns=[\"predicted_price\"], index=train_predict_index[i:i+output_dim])\n",
    "    predict_result = pd.concat([predict_result, y_predict], axis=1, sort=False)\n",
    "\n",
    "real_price = pd.DataFrame()\n",
    "for i in range(rescaled_Real_price.shape[0]):\n",
    "    y_train = pd.DataFrame(rescaled_Real_price[i], columns=[\"real_price\"], index=train_predict_index[i:i+output_dim])\n",
    "    real_price = pd.concat([real_price, y_train], axis=1, sort=False)\n",
    "\n",
    "predict_result['predicted_mean'] = predict_result.mean(axis=1)\n",
    "real_price['real_mean'] = real_price.mean(axis=1)\n",
    "\n",
    "# Plot the predicted result\n",
    "plt.figure(figsize=(16, 8))\n",
    "plt.plot(real_price[\"real_mean\"])\n",
    "plt.plot(predict_result[\"predicted_mean\"], color = 'r')\n",
    "plt.xlabel(\"Date\")\n",
    "plt.ylabel(\"Stock price\")\n",
    "plt.legend((\"Real price\", \"Predicted price\"), loc=\"upper left\", fontsize=16)\n",
    "plt.title(\"The result of Training\", fontsize=20)\n",
    "plt.show()\n",
    "plt.savefig('train_plot.png')\n",
    "\n",
    "# Calculate RMSE\n",
    "predicted = predict_result[\"predicted_mean\"]\n",
    "real = real_price[\"real_mean\"]\n",
    "For_MSE = pd.concat([predicted, real], axis = 1)\n",
    "RMSE = np.sqrt(mean_squared_error(predicted, real))\n",
    "print('-- RMSE -- ', RMSE)\n",
    "#Footer"
   ]
  },
  {
   "cell_type": "code",
   "execution_count": null,
   "id": "916cebeb",
   "metadata": {},
   "outputs": [],
   "source": []
  },
  {
   "cell_type": "code",
   "execution_count": null,
   "id": "d4365c02",
   "metadata": {},
   "outputs": [],
   "source": []
  }
 ],
 "metadata": {
  "kernelspec": {
   "display_name": "Python 3 (ipykernel)",
   "language": "python",
   "name": "python3"
  },
  "language_info": {
   "codemirror_mode": {
    "name": "ipython",
    "version": 3
   },
   "file_extension": ".py",
   "mimetype": "text/x-python",
   "name": "python",
   "nbconvert_exporter": "python",
   "pygments_lexer": "ipython3",
   "version": "3.10.2"
  }
 },
 "nbformat": 4,
 "nbformat_minor": 5
}
